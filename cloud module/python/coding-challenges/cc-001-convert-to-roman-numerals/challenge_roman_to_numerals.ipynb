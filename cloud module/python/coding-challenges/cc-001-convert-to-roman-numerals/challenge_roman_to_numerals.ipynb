{
 "cells": [
  {
   "cell_type": "code",
   "execution_count": null,
   "metadata": {},
   "outputs": [],
   "source": [
    "def int_to_roman(x):\n",
    "    numbers = [1, 4, 5, 9, 10, 40, 50, 90, 100, 400, 500, 900, 1000]\n",
    "    roman = ['I', 'IV', 'V', 'IX', 'X', 'XL', 'L', 'XC', 'C', 'CD', 'D', 'CM', 'M']\n",
    "    i = 12\n",
    "    roman_numeral = ''\n",
    "    while x != 0:\n",
    "        if numbers[i] <= x:\n",
    "            roman_numeral += roman[i]\n",
    "            x = x - numbers[i]\n",
    "\n",
    "        else:\n",
    "            i -= 1  # i = i - 1\n",
    "    return roman_numeral\n",
    "\n",
    "\n",
    "print(\"Type exit to end the program (press enter to continue)\")\n",
    "\n",
    "\n",
    "while True:\n",
    "\n",
    "    number = input(\"Enter a number: \")\n",
    "\n",
    "    if number == 'exit':\n",
    "        print(\"Exiting the program... GoodBye\")\n",
    "        break\n",
    "\n",
    "    if int(number) <= 0 or int(number) > 3999:\n",
    "        print(\"\"\"\"Not Valid Input!!!\"\"\"\"\")\n",
    "\n",
    "\n",
    "    else:\n",
    "\n",
    "        print(int_to_roman(int(number)))\n"
   ]
  }
 ],
 "metadata": {
  "language_info": {
   "name": "python"
  },
  "orig_nbformat": 4
 },
 "nbformat": 4,
 "nbformat_minor": 2
}
